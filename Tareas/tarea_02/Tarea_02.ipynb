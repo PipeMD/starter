{
  "nbformat": 4,
  "nbformat_minor": 0,
  "metadata": {
    "colab": {
      "provenance": []
    },
    "kernelspec": {
      "name": "python3",
      "display_name": "Python 3"
    },
    "language_info": {
      "name": "python"
    }
  },
  "cells": [
    {
      "cell_type": "code",
      "execution_count": null,
      "metadata": {
        "cellView": "code",
        "id": "8ScUV_opCTYO"
      },
      "outputs": [],
      "source": [
        "for x in range (-100,201):\n",
        "# Definimos a \"x\" como variable y ocupamos el for y range, el cual nos permite decir que para \"x\" en un rango establecido podemos mandar a imprimir esa variable\n",
        "# Para este caso, nuestro rango es de -100 a 201. Vale decir que el programa tomará el -100 como 0 y el 201 como 200, la cual es nuestra respuesta final.\n",
        "\n",
        "    print (x)\n",
        "# Nos va a \"imprimir\" todos los números que esten en el rango de -100 y 201 (-100 al 200), si pusieramos 200 en el rango imprime hasta el número 199."
      ]
    },
    {
      "cell_type": "code",
      "source": [
        "for x in range (-100,201):\n",
        "# Al igual que en el ejercicio anterior, ocupamos el For, definiendo una variable \"X\" en (in) un rango de -100 a 201\n",
        "\n",
        "  if x % 6 == 0:\n",
        "# Pero para este caso queremos que solo nos de resultados si X, nuestra variable, es divisible por 6 y nos deja un resto igual a 0.\n",
        "# Por lo que establecemos una condicional a traves del if y colocamos el simbolo de porcentaje (%), el cual nos da inmediatamente lo que necesitamos.\n",
        "\n",
        "    print (x)\n",
        "# Con lo anterior hecho, podemos mandar a \"imprimir\" nuestra variable, tal que \"Si \"x\" es divisible por 6 y nos da un resto igual a 0 se imprimiran los números\""
      ],
      "metadata": {
        "id": "gWJVewnQCmVy"
      },
      "execution_count": null,
      "outputs": []
    },
    {
      "cell_type": "code",
      "source": [
        "num1 = int(input(\"Ingresa el primer número: \"))\n",
        "num2 = int(input(\"Ingresa el segundo número: \"))\n",
        "\n",
        "# Se le pide al usuario ingresar dos variables numéricas (num1, num2), por lo que usamos Input y ponemos un texto que acompañe el espacio que ocupará la respuesta.\n",
        "# Queremos que la respuesta sea en números enteros por lo que usamos Int, si quisiéramos que la respuesta se expresara en decimal podemos usar float.\n",
        "\n",
        "Resultado = num1 + num2\n",
        "# Definimos la variable \"Resultado\" como la suma de los dos números (num1, num2) que se escriben en el Input.\n",
        "\n",
        "print (Resultado)\n",
        "# Se \"imprimirá\" la variable \"Resultado\", pero para dar una respuesta en concreto ante las distintas combinaciones de respuestas ocupamos distintos condicionales.\n",
        "\n",
        "if (Resultado<200):\n",
        "  print(\"Menor a 200\")\n",
        "# Por medio del If, establecemos que si el \"Resultado\", o sea la suma de ambos números es menor a 200, saldrá un mensaje que diga \"Menor a 200\".\n",
        "# Para los otros casos usamos elif como modo de comprobar las distintas combinaciones a las que pueden llegar los usuarios.\n",
        "\n",
        "elif(Resultado>=200 and Resultado<250):\n",
        "  print(\"Mayor a 200\")\n",
        "# Ocupamos Elif para establecer otra de las posibles combinaciones, la cual es que si el \"Resultado\" es mayor a 200 y (and) menor a 250, sale un mensaje que dice \"Mayor a 200\".\n",
        "\n",
        "elif(Resultado>250):\n",
        "  print(\"Mayor a 250\")\n",
        "# Siguiendo lo anterior, ocupamos nuevamente el Elif y ponemos la condicional que si el \"Resultado\" es mayor a 250, saldra un mensaje que dice \"Mayor a 250\".\n",
        "\n",
        "# Vale decir nuevamente que en este ejemplo solamente dan resultados con números enteros."
      ],
      "metadata": {
        "id": "dFFDmN5NCpYy"
      },
      "execution_count": null,
      "outputs": []
    },
    {
      "cell_type": "code",
      "source": [
        "edad = int(input(\"¿Cuál es tu edad? \"))\n",
        "gusta_musica_urbana = (input(\"¿Te gusta la música urbana? (Si/No) \"))\n",
        "\n",
        "# Igual que en el ejercicio anterior, se pide ingresar dos variables, en este caso una numérica (edad) y otra delimitada en una respuesta (Si o No).\n",
        "# Para el caso de la edad, ocupamos Int para que se ingresen solo números enteros y el Input con un texto que dice \"¿Cuál es tu edad?\", a lo que se espera una respuesta numérica.\n",
        "# Para el caso de si le gusta la musica urbana, ocupamos un Input con una pregunta que dice \"¿Te gusta la musica urbana?\", acompañada de un (Si/No) que es la respuesta que se busca obtener.\n",
        "\n",
        "# Para tener en cuenta todas las combinaciones de respuesta, ocupamos distintos condicionales.\n",
        "\n",
        "if edad >= 18 and gusta_musica_urbana == \"Si\":\n",
        "    print(\"Eres mayor de edad y te gusta la música urbana.\")\n",
        "# En este caso, ocupamos el If para establecer la condición de que si la edad es mayor o igual a 18 años y la respuesta a la pregunta sobre música urbana fue Si, imprime un mensaje que dice \"Eres mayor de edad y te gusta la música urbana\".\n",
        "\n",
        "elif edad >= 18 and gusta_musica_urbana == \"No\":\n",
        "    print(\"Eres mayor de edad y no te gusta la música urbana.\")\n",
        "# En este caso, ocupamos Elif para establecer la condición de que si la edad es mayor o igual a 18 años pero la respuesta a la pregunta sobre música urbana fue No, imprime un mensaje que dice \"Eres mayor de edad y no te gusta la música urbana\".\n",
        "\n",
        "\n",
        "elif edad < 18 and gusta_musica_urbana == \"Si\":\n",
        "    print(\"Eres menor de edad y te gusta la música urbana.\")\n",
        "# En este caso, ocupamos el If para establecer la condición de que si la edad es menor a 18 años y la respuesta a la pregunta sobre música urbana fue Si, imprime un mensaje que dice \"Eres menor de edad y te gusta la música urbana\".\n",
        "\n",
        "\n",
        "elif edad < 18 and gusta_musica_urbana == \"No\":\n",
        "    print(\"Eres menor de edad y no te gusta la música urbana.\")\n",
        "# En este caso, ocupamos Elif para establecer la condición de que si la edad es menor a 18 años y la respuesta a la pregunta sobre música urbana fue No, imprime un mensaje que dice \"Eres menor de edad y nte gusta la musica urbana\".\n",
        "\n",
        "\n",
        "else:\n",
        "    print(\"Por favor, ingresa una respuesta válida (Si/No) para la pregunta sobre música urbana.\")\n",
        "# Si al escribir otro tipo de respuesta en la segunda pregunta, o poner la primera letra en minúscula, saldrá un mensaje que dice que se ingrese una respuesta válida para la pregunta sobre música urbana."
      ],
      "metadata": {
        "id": "NFYWyWSmCtdd"
      },
      "execution_count": null,
      "outputs": []
    }
  ]
}